{
 "cells": [
  {
   "cell_type": "code",
   "execution_count": 1,
   "metadata": {},
   "outputs": [],
   "source": [
    "import numpy as np\n",
    "import pandas as pd"
   ]
  },
  {
   "cell_type": "code",
   "execution_count": 245,
   "metadata": {},
   "outputs": [],
   "source": [
    "\n",
    "\n",
    "#calculating sum of digit\n",
    "def sod(n:int):\n",
    "    res=0\n",
    "    n=str(n)\n",
    "    for i in n:\n",
    "        res+=int(i)\n",
    "    return res\n",
    "\n",
    "def sum_of_digit(n:int):\n",
    "    res=sod(n)\n",
    "    while res>9:\n",
    "        res=sod(res)\n",
    "    return res\n",
    "\n",
    "def max_val(a,b):\n",
    "    if a>b:\n",
    "        return a\n",
    "    else:\n",
    "        return b\n",
    "\n",
    "\n",
    "# Function to heapify the tree using sum of digit\n",
    "def sod_heapify(arr,  i):\n",
    "    n=len(arr)\n",
    "    # Find the largest among root, left child and right child\n",
    "    largest = i\n",
    "    l = 2 * i + 1\n",
    "    r = 2 * i + 2\n",
    "\n",
    "    if l < n and sum_of_digit(arr[i]) < sum_of_digit(arr[l]):\n",
    "        largest = l\n",
    "    if l < n and sum_of_digit(arr[i]) == sum_of_digit(arr[l]):\n",
    "        largest = arr.index(max_val(arr[i],arr[l]))\n",
    "\n",
    "    if r < n and sum_of_digit(arr[largest]) < sum_of_digit(arr[r]):\n",
    "        largest = r\n",
    "    if r < n and sum_of_digit(arr[largest]) == sum_of_digit(arr[r]):\n",
    "        largest = arr.index(max_val(arr[i],arr[r]))\n",
    "\n",
    "    # Swap and continue heapifying if root is not largest\n",
    "    if largest != i:\n",
    "        arr[i], arr[largest] = arr[largest], arr[i]\n",
    "        sod_heapify(arr, largest)\n",
    "\n",
    "# Function to heapify the tree\n",
    "def max_heapify(arr,  i):\n",
    "    n=len(arr)\n",
    "    # Find the largest among root, left child and right child\n",
    "    largest = i\n",
    "    l = 2 * i + 1\n",
    "    r = 2 * i + 2\n",
    "\n",
    "    if l < n and arr[i] < arr[l]:\n",
    "        largest = l\n",
    "\n",
    "    if r < n and arr[largest] < arr[r]:\n",
    "        largest = r\n",
    "\n",
    "    # Swap and continue heapifying if root is not largest\n",
    "    if largest != i:\n",
    "        arr[i], arr[largest] = arr[largest], arr[i]\n",
    "        max_heapify(arr, largest)\n",
    "\n",
    "\n",
    "# Function to insert an element into the tree\n",
    "# def insert(array, newNum):\n",
    "#     size = len(array)\n",
    "#     if size == 0:\n",
    "#         array.append(newNum)\n",
    "#     else:\n",
    "#         array.append(newNum)\n",
    "#         #build_max_heap(array)\n",
    "\n",
    "# Function to get the root element of the priority queue\n",
    "def peek(arr):\n",
    "    return arr[0]\n",
    "\n",
    "# Function to delete an element from the tree\n",
    "def deleteNode(A):\n",
    "    A.pop(0)\n",
    "    #build_max_heap(A)\n",
    "        \n",
    "        \n",
    "def build_max_heap(A):\n",
    "    n = int((len(A)//2)-1)\n",
    "    for k in range(n, -1, -1):\n",
    "        max_heapify(A,k)\n",
    "\n",
    "def build_sod_heap(A):\n",
    "    n = int((len(A)//2)-1)\n",
    "    for k in range(n, -1, -1):\n",
    "        sod_heapify(A,k)\n"
   ]
  },
  {
   "cell_type": "code",
   "execution_count": null,
   "metadata": {},
   "outputs": [],
   "source": []
  },
  {
   "cell_type": "code",
   "execution_count": null,
   "metadata": {},
   "outputs": [],
   "source": []
  },
  {
   "cell_type": "code",
   "execution_count": null,
   "metadata": {},
   "outputs": [],
   "source": [
    "\n",
    "\n",
    "            "
   ]
  },
  {
   "cell_type": "code",
   "execution_count": 209,
   "metadata": {},
   "outputs": [],
   "source": [
    "def maximizer(b,n:int,k:int,toss):\n",
    "    a=b.copy()\n",
    "    watson=0\n",
    "    sherlock=0\n",
    "    if toss=='TAILS':\n",
    "        for i in range(n):\n",
    "            if int(i/k)%2==0:\n",
    "                build_sod_heap(a)\n",
    "                watson=watson+peek(a)\n",
    "                deleteNode(a)\n",
    "            else:\n",
    "                build_max_heap(a)\n",
    "                sherlock=sherlock+peek(a)\n",
    "                deleteNode(a)\n",
    "    if toss=='HEADS':\n",
    "        for i in range(n):\n",
    "            if int(i/k)%2==0:\n",
    "                build_max_heap(a)\n",
    "                sherlock=sherlock+peek(a)\n",
    "                deleteNode(a)\n",
    "            else:\n",
    "                build_sod_heap(a)\n",
    "                watson=watson+peek(a)\n",
    "                deleteNode(a)\n",
    "    return {'Watson':watson,'Sherlock':sherlock}"
   ]
  },
  {
   "cell_type": "code",
   "execution_count": null,
   "metadata": {},
   "outputs": [],
   "source": []
  },
  {
   "cell_type": "code",
   "execution_count": 207,
   "metadata": {},
   "outputs": [],
   "source": [
    "with open('inputPS8.txt','r') as f:\n",
    "    loop=f.readline()\n",
    "    lines=f.readlines()[0:]\n",
    "with open(\"outputPS8.txt\",\"w\") as file:\n",
    "    j=0\n",
    "    for i in range(int(loop)):\n",
    "        ip_line=lines[j:j+3]\n",
    "        n,k=list(eval(ip_line[0].replace(\" \\n\",\"\").replace(\" \",\",\")))\n",
    "        arr=list(eval(ip_line[1].replace(\" \\n\",\"\").replace(\" \",\",\")))\n",
    "        toss=ip_line[2].replace(\" \\n\",\"\").replace(\" \",\"\")\n",
    "        res=maximizer(arr,n,k,toss)\n",
    "        file.write(f\"{res['Sherlock']} {res['Watson']}\\n\")\n",
    "        j=j+3\n",
    "            "
   ]
  },
  {
   "cell_type": "code",
   "execution_count": 252,
   "metadata": {},
   "outputs": [],
   "source": [
    "a=[81,41, 27, 36, 72, 63, 50]\n",
    "#a=sorted(a,reverse=True)"
   ]
  },
  {
   "cell_type": "code",
   "execution_count": 253,
   "metadata": {},
   "outputs": [],
   "source": [
    "\n",
    "build_sod_heap(a)"
   ]
  },
  {
   "cell_type": "code",
   "execution_count": 255,
   "metadata": {},
   "outputs": [],
   "source": [
    "# for i in range(len(a)):\n",
    "#     print(peek(a))\n",
    "#     deleteNode(a)\n",
    "#     #build_max_heap(a)\n",
    "#     build_sod_heap(a)"
   ]
  },
  {
   "cell_type": "code",
   "execution_count": null,
   "metadata": {},
   "outputs": [],
   "source": []
  },
  {
   "cell_type": "code",
   "execution_count": null,
   "metadata": {},
   "outputs": [],
   "source": []
  }
 ],
 "metadata": {
  "kernelspec": {
   "display_name": "Python 3",
   "language": "python",
   "name": "python3"
  },
  "language_info": {
   "codemirror_mode": {
    "name": "ipython",
    "version": 3
   },
   "file_extension": ".py",
   "mimetype": "text/x-python",
   "name": "python",
   "nbconvert_exporter": "python",
   "pygments_lexer": "ipython3",
   "version": "3.8.5"
  }
 },
 "nbformat": 4,
 "nbformat_minor": 4
}
